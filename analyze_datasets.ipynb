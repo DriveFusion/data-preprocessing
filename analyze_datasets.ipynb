{
 "cells": [
  {
   "cell_type": "markdown",
   "metadata": {},
   "source": [
    "## Import Libraries"
   ]
  },
  {
   "cell_type": "code",
   "execution_count": 39,
   "metadata": {},
   "outputs": [],
   "source": [
    "import pandas as pd\n",
    "from IPython.display import display, Image\n",
    "\n",
    "import os\n",
    "import json\n",
    "\n",
    "from utils import *"
   ]
  },
  {
   "cell_type": "markdown",
   "metadata": {},
   "source": [
    "## Important Paths"
   ]
  },
  {
   "cell_type": "code",
   "execution_count": 40,
   "metadata": {},
   "outputs": [],
   "source": [
    "# LingoQA Paths\n",
    "LINGO_DATASET_PATH = './datasets/lingoqa_dataset'\n",
    "LINGO_ACTION_PATH = os.path.join(LINGO_DATASET_PATH, 'action')\n",
    "LINGO_SCENERY_PATH = os.path.join(LINGO_DATASET_PATH, 'scenery')\n",
    "LINGO_EVAL_PATH = os.path.join(LINGO_DATASET_PATH, 'evaluation')\n",
    "LINGO_IMAGES_PATH = os.path.join(LINGO_DATASET_PATH, 'images')\n",
    "LINGO_TRAIN_PATH = os.path.join(LINGO_DATASET_PATH, 'train')\n",
    "LINGO_VAL_PATH = os.path.join(LINGO_DATASET_PATH, 'val')\n",
    "\n",
    "# DriveGPT4 Paths\n",
    "DRIVE_BDDX_DATASET_PATH = './datasets/drivegpt4_dataset'\n",
    "DRIVE_BDDX_IMAGES_PATH = os.path.join(DRIVE_BDDX_DATASET_PATH, 'BDD_X_imgs_select')\n",
    "\n",
    "# Our Paths\n",
    "OUR_DATASET_Path = './our_datasets'\n",
    "OUR_LINGO_DATASET_PATH = os.path.join(OUR_DATASET_Path, 'lingoqa_dataset')"
   ]
  },
  {
   "cell_type": "markdown",
   "metadata": {},
   "source": [
    "# Analyze Datasets"
   ]
  },
  {
   "cell_type": "markdown",
   "metadata": {},
   "source": [
    "## Analyze LingoQA Dataset"
   ]
  },
  {
   "cell_type": "markdown",
   "metadata": {},
   "source": [
    "### Analyze Action Data"
   ]
  },
  {
   "cell_type": "code",
   "execution_count": 3,
   "metadata": {},
   "outputs": [
    {
     "name": "stdout",
     "output_type": "stream",
     "text": [
      "265323\n"
     ]
    },
    {
     "data": {
      "text/html": [
       "<div>\n",
       "<style scoped>\n",
       "    .dataframe tbody tr th:only-of-type {\n",
       "        vertical-align: middle;\n",
       "    }\n",
       "\n",
       "    .dataframe tbody tr th {\n",
       "        vertical-align: top;\n",
       "    }\n",
       "\n",
       "    .dataframe thead th {\n",
       "        text-align: right;\n",
       "    }\n",
       "</style>\n",
       "<table border=\"1\" class=\"dataframe\">\n",
       "  <thead>\n",
       "    <tr style=\"text-align: right;\">\n",
       "      <th></th>\n",
       "      <th>question_id</th>\n",
       "      <th>segment_id</th>\n",
       "      <th>images</th>\n",
       "      <th>question</th>\n",
       "      <th>answer</th>\n",
       "    </tr>\n",
       "  </thead>\n",
       "  <tbody>\n",
       "    <tr>\n",
       "      <th>0</th>\n",
       "      <td>959d64df1f47dd115fb4ed14997106b3</td>\n",
       "      <td>a9f0e311b0c6f46a9cc7cb923234e60a</td>\n",
       "      <td>[images/train/a9f0e311b0c6f46a9cc7cb923234e60a...</td>\n",
       "      <td>What are you currently doing and why?</td>\n",
       "      <td>I am starting as the zebra crossing becomes cl...</td>\n",
       "    </tr>\n",
       "    <tr>\n",
       "      <th>1</th>\n",
       "      <td>6c6e29403bbfc6761b7d9eafbf6d3040</td>\n",
       "      <td>a9f0e311b0c6f46a9cc7cb923234e60a</td>\n",
       "      <td>[images/train/a9f0e311b0c6f46a9cc7cb923234e60a...</td>\n",
       "      <td>What are you paying attention to and why?</td>\n",
       "      <td>I am paying attention to the zebra crossing to...</td>\n",
       "    </tr>\n",
       "  </tbody>\n",
       "</table>\n",
       "</div>"
      ],
      "text/plain": [
       "                        question_id                        segment_id  \\\n",
       "0  959d64df1f47dd115fb4ed14997106b3  a9f0e311b0c6f46a9cc7cb923234e60a   \n",
       "1  6c6e29403bbfc6761b7d9eafbf6d3040  a9f0e311b0c6f46a9cc7cb923234e60a   \n",
       "\n",
       "                                              images  \\\n",
       "0  [images/train/a9f0e311b0c6f46a9cc7cb923234e60a...   \n",
       "1  [images/train/a9f0e311b0c6f46a9cc7cb923234e60a...   \n",
       "\n",
       "                                    question  \\\n",
       "0      What are you currently doing and why?   \n",
       "1  What are you paying attention to and why?   \n",
       "\n",
       "                                              answer  \n",
       "0  I am starting as the zebra crossing becomes cl...  \n",
       "1  I am paying attention to the zebra crossing to...  "
      ]
     },
     "execution_count": 3,
     "metadata": {},
     "output_type": "execute_result"
    }
   ],
   "source": [
    "df_action = pd.read_parquet(os.path.join(LINGO_ACTION_PATH, 'train.parquet'))\n",
    "print(len(df_action))\n",
    "df_action.head(2)"
   ]
  },
  {
   "cell_type": "code",
   "execution_count": 4,
   "metadata": {},
   "outputs": [
    {
     "data": {
      "text/plain": [
       "array(['images/train/a9f0e311b0c6f46a9cc7cb923234e60a/0.jpg',\n",
       "       'images/train/a9f0e311b0c6f46a9cc7cb923234e60a/1.jpg',\n",
       "       'images/train/a9f0e311b0c6f46a9cc7cb923234e60a/2.jpg',\n",
       "       'images/train/a9f0e311b0c6f46a9cc7cb923234e60a/3.jpg',\n",
       "       'images/train/a9f0e311b0c6f46a9cc7cb923234e60a/4.jpg'],\n",
       "      dtype=object)"
      ]
     },
     "execution_count": 4,
     "metadata": {},
     "output_type": "execute_result"
    }
   ],
   "source": [
    "df_action['images'].iloc[0]"
   ]
  },
  {
   "cell_type": "code",
   "execution_count": 5,
   "metadata": {},
   "outputs": [
    {
     "data": {
      "text/plain": [
       "('What are you currently doing and why?',\n",
       " 'I am starting as the zebra crossing becomes clear once the pedestrians have finished crossing.')"
      ]
     },
     "execution_count": 5,
     "metadata": {},
     "output_type": "execute_result"
    }
   ],
   "source": [
    "df_action['question'].iloc[0], df_action['answer'].iloc[0]"
   ]
  },
  {
   "cell_type": "code",
   "execution_count": 11,
   "metadata": {},
   "outputs": [
    {
     "name": "stdout",
     "output_type": "stream",
     "text": [
      "Question: What are you currently doing and why?\n",
      "Answer: I am starting as the zebra crossing becomes clear once the pedestrians have finished crossing.\n"
     ]
    },
    {
     "data": {
      "text/html": [
       "<div style=\"display: flex; gap: 10px;\"><img src=\"./datasets/lingoqa_dataset/action/images/train/a9f0e311b0c6f46a9cc7cb923234e60a/0.jpg\" style=\"height: 200px;\"><img src=\"./datasets/lingoqa_dataset/action/images/train/a9f0e311b0c6f46a9cc7cb923234e60a/1.jpg\" style=\"height: 200px;\"><img src=\"./datasets/lingoqa_dataset/action/images/train/a9f0e311b0c6f46a9cc7cb923234e60a/2.jpg\" style=\"height: 200px;\"><img src=\"./datasets/lingoqa_dataset/action/images/train/a9f0e311b0c6f46a9cc7cb923234e60a/3.jpg\" style=\"height: 200px;\"><img src=\"./datasets/lingoqa_dataset/action/images/train/a9f0e311b0c6f46a9cc7cb923234e60a/4.jpg\" style=\"height: 200px;\"></div>"
      ],
      "text/plain": [
       "<IPython.core.display.HTML object>"
      ]
     },
     "metadata": {},
     "output_type": "display_data"
    }
   ],
   "source": [
    "index = 0\n",
    "question = df_action['question'].iloc[index]\n",
    "answer = df_action['answer'].iloc[index]\n",
    "images = df_action['images'].iloc[index]\n",
    "\n",
    "print(f'Question: {question}\\nAnswer: {answer}')\n",
    "display_images(images, LINGO_ACTION_PATH)"
   ]
  },
  {
   "cell_type": "code",
   "execution_count": 12,
   "metadata": {},
   "outputs": [
    {
     "name": "stdout",
     "output_type": "stream",
     "text": [
      "Question: What are you paying attention to and why?\n",
      "Answer: I am paying attention to the bus lane on the left because I need to keep a safe distance from it.\n"
     ]
    },
    {
     "data": {
      "text/html": [
       "<div style=\"display: flex; gap: 10px;\"><img src=\"./datasets/lingoqa_dataset/action/images/train/3279e4ef602481f8b482baace7c39872/0.jpg\" style=\"height: 200px;\"><img src=\"./datasets/lingoqa_dataset/action/images/train/3279e4ef602481f8b482baace7c39872/1.jpg\" style=\"height: 200px;\"><img src=\"./datasets/lingoqa_dataset/action/images/train/3279e4ef602481f8b482baace7c39872/2.jpg\" style=\"height: 200px;\"><img src=\"./datasets/lingoqa_dataset/action/images/train/3279e4ef602481f8b482baace7c39872/3.jpg\" style=\"height: 200px;\"><img src=\"./datasets/lingoqa_dataset/action/images/train/3279e4ef602481f8b482baace7c39872/4.jpg\" style=\"height: 200px;\"></div>"
      ],
      "text/plain": [
       "<IPython.core.display.HTML object>"
      ]
     },
     "metadata": {},
     "output_type": "display_data"
    }
   ],
   "source": [
    "index = 25\n",
    "question = df_action['question'].iloc[index]\n",
    "answer = df_action['answer'].iloc[index]\n",
    "images = df_action['images'].iloc[index]\n",
    "\n",
    "print(f'Question: {question}\\nAnswer: {answer}')\n",
    "display_images(images, LINGO_ACTION_PATH)"
   ]
  },
  {
   "cell_type": "code",
   "execution_count": 13,
   "metadata": {},
   "outputs": [
    {
     "name": "stdout",
     "output_type": "stream",
     "text": [
      "Question: How should you adapt your speed in this situation?\n",
      "Answer: I should maintain my speed as long as the gap in front of me remains clear.\n"
     ]
    },
    {
     "data": {
      "text/html": [
       "<div style=\"display: flex; gap: 10px;\"><img src=\"./datasets/lingoqa_dataset/action/images/train/f9d558da7169fc4bf5f97c70f5e8b5a6/0.jpg\" style=\"height: 200px;\"><img src=\"./datasets/lingoqa_dataset/action/images/train/f9d558da7169fc4bf5f97c70f5e8b5a6/1.jpg\" style=\"height: 200px;\"><img src=\"./datasets/lingoqa_dataset/action/images/train/f9d558da7169fc4bf5f97c70f5e8b5a6/2.jpg\" style=\"height: 200px;\"><img src=\"./datasets/lingoqa_dataset/action/images/train/f9d558da7169fc4bf5f97c70f5e8b5a6/3.jpg\" style=\"height: 200px;\"><img src=\"./datasets/lingoqa_dataset/action/images/train/f9d558da7169fc4bf5f97c70f5e8b5a6/4.jpg\" style=\"height: 200px;\"></div>"
      ],
      "text/plain": [
       "<IPython.core.display.HTML object>"
      ]
     },
     "metadata": {},
     "output_type": "display_data"
    }
   ],
   "source": [
    "index = 250\n",
    "question = df_action['question'].iloc[index]\n",
    "answer = df_action['answer'].iloc[index]\n",
    "images = df_action['images'].iloc[index]\n",
    "\n",
    "print(f'Question: {question}\\nAnswer: {answer}')\n",
    "display_images(images, LINGO_ACTION_PATH)"
   ]
  },
  {
   "cell_type": "markdown",
   "metadata": {},
   "source": [
    "### Analyze Scenery Data"
   ]
  },
  {
   "cell_type": "code",
   "execution_count": 14,
   "metadata": {},
   "outputs": [
    {
     "name": "stdout",
     "output_type": "stream",
     "text": [
      "148506\n"
     ]
    },
    {
     "data": {
      "text/html": [
       "<div>\n",
       "<style scoped>\n",
       "    .dataframe tbody tr th:only-of-type {\n",
       "        vertical-align: middle;\n",
       "    }\n",
       "\n",
       "    .dataframe tbody tr th {\n",
       "        vertical-align: top;\n",
       "    }\n",
       "\n",
       "    .dataframe thead th {\n",
       "        text-align: right;\n",
       "    }\n",
       "</style>\n",
       "<table border=\"1\" class=\"dataframe\">\n",
       "  <thead>\n",
       "    <tr style=\"text-align: right;\">\n",
       "      <th></th>\n",
       "      <th>question_id</th>\n",
       "      <th>segment_id</th>\n",
       "      <th>images</th>\n",
       "      <th>question</th>\n",
       "      <th>answer</th>\n",
       "    </tr>\n",
       "  </thead>\n",
       "  <tbody>\n",
       "    <tr>\n",
       "      <th>0</th>\n",
       "      <td>e0c57fef6e10d9d2a813b14cae5c9517</td>\n",
       "      <td>355a614a2263d30aac9cd1505852c4dd</td>\n",
       "      <td>[images/train/355a614a2263d30aac9cd1505852c4dd...</td>\n",
       "      <td>What action are you currently taking as the dr...</td>\n",
       "      <td>I am turning left as the road weaves in that d...</td>\n",
       "    </tr>\n",
       "    <tr>\n",
       "      <th>1</th>\n",
       "      <td>088a0fcd840c8e7e545adfc550aa1d9b</td>\n",
       "      <td>355a614a2263d30aac9cd1505852c4dd</td>\n",
       "      <td>[images/train/355a614a2263d30aac9cd1505852c4dd...</td>\n",
       "      <td>Why are you taking this action?</td>\n",
       "      <td>It’s necessary to follow the curvature of the ...</td>\n",
       "    </tr>\n",
       "  </tbody>\n",
       "</table>\n",
       "</div>"
      ],
      "text/plain": [
       "                        question_id                        segment_id  \\\n",
       "0  e0c57fef6e10d9d2a813b14cae5c9517  355a614a2263d30aac9cd1505852c4dd   \n",
       "1  088a0fcd840c8e7e545adfc550aa1d9b  355a614a2263d30aac9cd1505852c4dd   \n",
       "\n",
       "                                              images  \\\n",
       "0  [images/train/355a614a2263d30aac9cd1505852c4dd...   \n",
       "1  [images/train/355a614a2263d30aac9cd1505852c4dd...   \n",
       "\n",
       "                                            question  \\\n",
       "0  What action are you currently taking as the dr...   \n",
       "1                    Why are you taking this action?   \n",
       "\n",
       "                                              answer  \n",
       "0  I am turning left as the road weaves in that d...  \n",
       "1  It’s necessary to follow the curvature of the ...  "
      ]
     },
     "execution_count": 14,
     "metadata": {},
     "output_type": "execute_result"
    }
   ],
   "source": [
    "df_scenery = pd.read_parquet(os.path.join(LINGO_SCENERY_PATH, 'train.parquet'))\n",
    "print(len(df_scenery))\n",
    "df_scenery.head(2)"
   ]
  },
  {
   "cell_type": "code",
   "execution_count": 15,
   "metadata": {},
   "outputs": [
    {
     "data": {
      "text/plain": [
       "array(['images/train/355a614a2263d30aac9cd1505852c4dd/0.jpg',\n",
       "       'images/train/355a614a2263d30aac9cd1505852c4dd/1.jpg',\n",
       "       'images/train/355a614a2263d30aac9cd1505852c4dd/2.jpg',\n",
       "       'images/train/355a614a2263d30aac9cd1505852c4dd/3.jpg',\n",
       "       'images/train/355a614a2263d30aac9cd1505852c4dd/4.jpg'],\n",
       "      dtype=object)"
      ]
     },
     "execution_count": 15,
     "metadata": {},
     "output_type": "execute_result"
    }
   ],
   "source": [
    "df_scenery['images'].iloc[0]"
   ]
  },
  {
   "cell_type": "code",
   "execution_count": 16,
   "metadata": {},
   "outputs": [
    {
     "data": {
      "text/plain": [
       "('What action are you currently taking as the driver?',\n",
       " 'I am turning left as the road weaves in that direction and continuing straight when the road is clear.')"
      ]
     },
     "execution_count": 16,
     "metadata": {},
     "output_type": "execute_result"
    }
   ],
   "source": [
    "df_scenery['question'].iloc[0], df_scenery['answer'].iloc[0]"
   ]
  },
  {
   "cell_type": "code",
   "execution_count": 17,
   "metadata": {},
   "outputs": [
    {
     "name": "stdout",
     "output_type": "stream",
     "text": [
      "Question: What action are you currently taking as the driver?\n",
      "Answer: I am turning left as the road weaves in that direction and continuing straight when the road is clear.\n"
     ]
    },
    {
     "data": {
      "text/html": [
       "<div style=\"display: flex; gap: 10px;\"><img src=\"./datasets/lingoqa_dataset/scenery/images/train/355a614a2263d30aac9cd1505852c4dd/0.jpg\" style=\"height: 200px;\"><img src=\"./datasets/lingoqa_dataset/scenery/images/train/355a614a2263d30aac9cd1505852c4dd/1.jpg\" style=\"height: 200px;\"><img src=\"./datasets/lingoqa_dataset/scenery/images/train/355a614a2263d30aac9cd1505852c4dd/2.jpg\" style=\"height: 200px;\"><img src=\"./datasets/lingoqa_dataset/scenery/images/train/355a614a2263d30aac9cd1505852c4dd/3.jpg\" style=\"height: 200px;\"><img src=\"./datasets/lingoqa_dataset/scenery/images/train/355a614a2263d30aac9cd1505852c4dd/4.jpg\" style=\"height: 200px;\"></div>"
      ],
      "text/plain": [
       "<IPython.core.display.HTML object>"
      ]
     },
     "metadata": {},
     "output_type": "display_data"
    }
   ],
   "source": [
    "index = 0\n",
    "question = df_scenery['question'].iloc[index]\n",
    "answer = df_scenery['answer'].iloc[index]\n",
    "images = df_scenery['images'].iloc[index]\n",
    "\n",
    "print(f'Question: {question}\\nAnswer: {answer}')\n",
    "display_images(images, LINGO_SCENERY_PATH)"
   ]
  },
  {
   "cell_type": "code",
   "execution_count": 18,
   "metadata": {},
   "outputs": [
    {
     "name": "stdout",
     "output_type": "stream",
     "text": [
      "Question: Do you see any cycle lanes near you?\n",
      "Answer: No, there are no cycle lanes here.\n"
     ]
    },
    {
     "data": {
      "text/html": [
       "<div style=\"display: flex; gap: 10px;\"><img src=\"./datasets/lingoqa_dataset/scenery/images/train/6a46a7a5fc5bab989ebf892a6371e843/0.jpg\" style=\"height: 200px;\"><img src=\"./datasets/lingoqa_dataset/scenery/images/train/6a46a7a5fc5bab989ebf892a6371e843/1.jpg\" style=\"height: 200px;\"><img src=\"./datasets/lingoqa_dataset/scenery/images/train/6a46a7a5fc5bab989ebf892a6371e843/2.jpg\" style=\"height: 200px;\"><img src=\"./datasets/lingoqa_dataset/scenery/images/train/6a46a7a5fc5bab989ebf892a6371e843/3.jpg\" style=\"height: 200px;\"><img src=\"./datasets/lingoqa_dataset/scenery/images/train/6a46a7a5fc5bab989ebf892a6371e843/4.jpg\" style=\"height: 200px;\"></div>"
      ],
      "text/plain": [
       "<IPython.core.display.HTML object>"
      ]
     },
     "metadata": {},
     "output_type": "display_data"
    }
   ],
   "source": [
    "index = 150\n",
    "question = df_scenery['question'].iloc[index]\n",
    "answer = df_scenery['answer'].iloc[index]\n",
    "images = df_scenery['images'].iloc[index]\n",
    "\n",
    "print(f'Question: {question}\\nAnswer: {answer}')\n",
    "display_images(images, LINGO_SCENERY_PATH)"
   ]
  },
  {
   "cell_type": "code",
   "execution_count": 19,
   "metadata": {},
   "outputs": [
    {
     "name": "stdout",
     "output_type": "stream",
     "text": [
      "Question: Can you describe the traffic ahead of you in your lane?\n",
      "Answer: There is a white van crossing the traffic ahead of me in my lane.\n"
     ]
    },
    {
     "data": {
      "text/html": [
       "<div style=\"display: flex; gap: 10px;\"><img src=\"./datasets/lingoqa_dataset/scenery/images/train/6428b0aa9754e42567d2527b12712ab6/0.jpg\" style=\"height: 200px;\"><img src=\"./datasets/lingoqa_dataset/scenery/images/train/6428b0aa9754e42567d2527b12712ab6/1.jpg\" style=\"height: 200px;\"><img src=\"./datasets/lingoqa_dataset/scenery/images/train/6428b0aa9754e42567d2527b12712ab6/2.jpg\" style=\"height: 200px;\"><img src=\"./datasets/lingoqa_dataset/scenery/images/train/6428b0aa9754e42567d2527b12712ab6/3.jpg\" style=\"height: 200px;\"><img src=\"./datasets/lingoqa_dataset/scenery/images/train/6428b0aa9754e42567d2527b12712ab6/4.jpg\" style=\"height: 200px;\"></div>"
      ],
      "text/plain": [
       "<IPython.core.display.HTML object>"
      ]
     },
     "metadata": {},
     "output_type": "display_data"
    }
   ],
   "source": [
    "index = 250\n",
    "question = df_scenery['question'].iloc[index]\n",
    "answer = df_scenery['answer'].iloc[index]\n",
    "images = df_scenery['images'].iloc[index]\n",
    "\n",
    "print(f'Question: {question}\\nAnswer: {answer}')\n",
    "display_images(images, LINGO_SCENERY_PATH)"
   ]
  },
  {
   "cell_type": "markdown",
   "metadata": {},
   "source": [
    "### Analyze Evaluation Data"
   ]
  },
  {
   "cell_type": "code",
   "execution_count": 20,
   "metadata": {},
   "outputs": [
    {
     "name": "stdout",
     "output_type": "stream",
     "text": [
      "1000\n"
     ]
    },
    {
     "data": {
      "text/html": [
       "<div>\n",
       "<style scoped>\n",
       "    .dataframe tbody tr th:only-of-type {\n",
       "        vertical-align: middle;\n",
       "    }\n",
       "\n",
       "    .dataframe tbody tr th {\n",
       "        vertical-align: top;\n",
       "    }\n",
       "\n",
       "    .dataframe thead th {\n",
       "        text-align: right;\n",
       "    }\n",
       "</style>\n",
       "<table border=\"1\" class=\"dataframe\">\n",
       "  <thead>\n",
       "    <tr style=\"text-align: right;\">\n",
       "      <th></th>\n",
       "      <th>question_id</th>\n",
       "      <th>segment_id</th>\n",
       "      <th>images</th>\n",
       "      <th>question</th>\n",
       "      <th>answer</th>\n",
       "    </tr>\n",
       "  </thead>\n",
       "  <tbody>\n",
       "    <tr>\n",
       "      <th>0</th>\n",
       "      <td>1a938d25604410ccd63b60285919eaec</td>\n",
       "      <td>f2e4286e94457b8605069190e29f955a</td>\n",
       "      <td>[images/val/f2e4286e94457b8605069190e29f955a/0...</td>\n",
       "      <td>Is there a traffic light? If yes, what color i...</td>\n",
       "      <td>Yes, green.</td>\n",
       "    </tr>\n",
       "    <tr>\n",
       "      <th>1</th>\n",
       "      <td>1a938d25604410ccd63b60285919eaec</td>\n",
       "      <td>f2e4286e94457b8605069190e29f955a</td>\n",
       "      <td>[images/val/f2e4286e94457b8605069190e29f955a/0...</td>\n",
       "      <td>Is there a traffic light? If yes, what color i...</td>\n",
       "      <td>Yes, a temporary traffic light. It is showing ...</td>\n",
       "    </tr>\n",
       "  </tbody>\n",
       "</table>\n",
       "</div>"
      ],
      "text/plain": [
       "                        question_id                        segment_id  \\\n",
       "0  1a938d25604410ccd63b60285919eaec  f2e4286e94457b8605069190e29f955a   \n",
       "1  1a938d25604410ccd63b60285919eaec  f2e4286e94457b8605069190e29f955a   \n",
       "\n",
       "                                              images  \\\n",
       "0  [images/val/f2e4286e94457b8605069190e29f955a/0...   \n",
       "1  [images/val/f2e4286e94457b8605069190e29f955a/0...   \n",
       "\n",
       "                                            question  \\\n",
       "0  Is there a traffic light? If yes, what color i...   \n",
       "1  Is there a traffic light? If yes, what color i...   \n",
       "\n",
       "                                              answer  \n",
       "0                                        Yes, green.  \n",
       "1  Yes, a temporary traffic light. It is showing ...  "
      ]
     },
     "execution_count": 20,
     "metadata": {},
     "output_type": "execute_result"
    }
   ],
   "source": [
    "df_eval = pd.read_parquet(os.path.join(LINGO_EVAL_PATH, 'val.parquet'))\n",
    "print(len(df_eval))\n",
    "df_eval.head(2)"
   ]
  },
  {
   "cell_type": "code",
   "execution_count": 21,
   "metadata": {},
   "outputs": [
    {
     "data": {
      "text/plain": [
       "array(['images/val/f2e4286e94457b8605069190e29f955a/0.jpg',\n",
       "       'images/val/f2e4286e94457b8605069190e29f955a/1.jpg',\n",
       "       'images/val/f2e4286e94457b8605069190e29f955a/2.jpg',\n",
       "       'images/val/f2e4286e94457b8605069190e29f955a/3.jpg',\n",
       "       'images/val/f2e4286e94457b8605069190e29f955a/4.jpg'], dtype=object)"
      ]
     },
     "execution_count": 21,
     "metadata": {},
     "output_type": "execute_result"
    }
   ],
   "source": [
    "df_eval['images'].iloc[0]"
   ]
  },
  {
   "cell_type": "code",
   "execution_count": 22,
   "metadata": {},
   "outputs": [
    {
     "data": {
      "text/plain": [
       "('Is there a traffic light? If yes, what color is displayed?', 'Yes, green.')"
      ]
     },
     "execution_count": 22,
     "metadata": {},
     "output_type": "execute_result"
    }
   ],
   "source": [
    "df_eval['question'].iloc[0], df_eval['answer'].iloc[0]"
   ]
  },
  {
   "cell_type": "code",
   "execution_count": 23,
   "metadata": {},
   "outputs": [
    {
     "name": "stdout",
     "output_type": "stream",
     "text": [
      "Question: Is there a traffic light? If yes, what color is displayed?\n",
      "Answer: Yes, green.\n"
     ]
    },
    {
     "data": {
      "text/html": [
       "<div style=\"display: flex; gap: 10px;\"><img src=\"./datasets/lingoqa_dataset/evaluation/images/val/f2e4286e94457b8605069190e29f955a/0.jpg\" style=\"height: 200px;\"><img src=\"./datasets/lingoqa_dataset/evaluation/images/val/f2e4286e94457b8605069190e29f955a/1.jpg\" style=\"height: 200px;\"><img src=\"./datasets/lingoqa_dataset/evaluation/images/val/f2e4286e94457b8605069190e29f955a/2.jpg\" style=\"height: 200px;\"><img src=\"./datasets/lingoqa_dataset/evaluation/images/val/f2e4286e94457b8605069190e29f955a/3.jpg\" style=\"height: 200px;\"><img src=\"./datasets/lingoqa_dataset/evaluation/images/val/f2e4286e94457b8605069190e29f955a/4.jpg\" style=\"height: 200px;\"></div>"
      ],
      "text/plain": [
       "<IPython.core.display.HTML object>"
      ]
     },
     "metadata": {},
     "output_type": "display_data"
    }
   ],
   "source": [
    "index = 0\n",
    "question = df_eval['question'].iloc[index]\n",
    "answer = df_eval['answer'].iloc[index]\n",
    "images = df_eval['images'].iloc[index]\n",
    "\n",
    "print(f'Question: {question}\\nAnswer: {answer}')\n",
    "display_images(images, LINGO_EVAL_PATH)"
   ]
  },
  {
   "cell_type": "code",
   "execution_count": 25,
   "metadata": {},
   "outputs": [
    {
     "name": "stdout",
     "output_type": "stream",
     "text": [
      "Question: Are there any zebra crossings ahead?\n",
      "Answer: There is a zebra crossing directly ahead of us.\n"
     ]
    },
    {
     "data": {
      "text/html": [
       "<div style=\"display: flex; gap: 10px;\"><img src=\"./datasets/lingoqa_dataset/evaluation/images/val/0ad3c6571f5aff651d43b4014b693e94/0.jpg\" style=\"height: 200px;\"><img src=\"./datasets/lingoqa_dataset/evaluation/images/val/0ad3c6571f5aff651d43b4014b693e94/1.jpg\" style=\"height: 200px;\"><img src=\"./datasets/lingoqa_dataset/evaluation/images/val/0ad3c6571f5aff651d43b4014b693e94/2.jpg\" style=\"height: 200px;\"><img src=\"./datasets/lingoqa_dataset/evaluation/images/val/0ad3c6571f5aff651d43b4014b693e94/3.jpg\" style=\"height: 200px;\"><img src=\"./datasets/lingoqa_dataset/evaluation/images/val/0ad3c6571f5aff651d43b4014b693e94/4.jpg\" style=\"height: 200px;\"></div>"
      ],
      "text/plain": [
       "<IPython.core.display.HTML object>"
      ]
     },
     "metadata": {},
     "output_type": "display_data"
    }
   ],
   "source": [
    "index = 150\n",
    "question = df_eval['question'].iloc[index]\n",
    "answer = df_eval['answer'].iloc[index]\n",
    "images = df_eval['images'].iloc[index]\n",
    "\n",
    "print(f'Question: {question}\\nAnswer: {answer}')\n",
    "display_images(images, LINGO_EVAL_PATH)"
   ]
  },
  {
   "cell_type": "code",
   "execution_count": 26,
   "metadata": {},
   "outputs": [
    {
     "name": "stdout",
     "output_type": "stream",
     "text": [
      "Question: Is it possible for you to accelerate in this situation, and if so, why?\n",
      "Answer: It is not possible to accelerate as there are pedestrians crossing the road.\n"
     ]
    },
    {
     "data": {
      "text/html": [
       "<div style=\"display: flex; gap: 10px;\"><img src=\"./datasets/lingoqa_dataset/evaluation/images/val/cc0f48b73f7f13adff2113931a41805e/0.jpg\" style=\"height: 200px;\"><img src=\"./datasets/lingoqa_dataset/evaluation/images/val/cc0f48b73f7f13adff2113931a41805e/1.jpg\" style=\"height: 200px;\"><img src=\"./datasets/lingoqa_dataset/evaluation/images/val/cc0f48b73f7f13adff2113931a41805e/2.jpg\" style=\"height: 200px;\"><img src=\"./datasets/lingoqa_dataset/evaluation/images/val/cc0f48b73f7f13adff2113931a41805e/3.jpg\" style=\"height: 200px;\"><img src=\"./datasets/lingoqa_dataset/evaluation/images/val/cc0f48b73f7f13adff2113931a41805e/4.jpg\" style=\"height: 200px;\"></div>"
      ],
      "text/plain": [
       "<IPython.core.display.HTML object>"
      ]
     },
     "metadata": {},
     "output_type": "display_data"
    }
   ],
   "source": [
    "index = 250\n",
    "question = df_eval['question'].iloc[index]\n",
    "answer = df_eval['answer'].iloc[index]\n",
    "images = df_eval['images'].iloc[index]\n",
    "\n",
    "print(f'Question: {question}\\nAnswer: {answer}')\n",
    "display_images(images, LINGO_EVAL_PATH)"
   ]
  },
  {
   "cell_type": "markdown",
   "metadata": {},
   "source": [
    "## Analyze BDD-X DriveGPT4 Dataset"
   ]
  },
  {
   "cell_type": "markdown",
   "metadata": {},
   "source": [
    "#### Training Dataset"
   ]
  },
  {
   "cell_type": "code",
   "execution_count": 47,
   "metadata": {},
   "outputs": [],
   "source": [
    "with open(os.path.join(DRIVE_BDDX_DATASET_PATH, 'BDD_X_training_label.json'), 'r') as f:\n",
    "    drive_bddx_train_data = json.load(f)"
   ]
  },
  {
   "cell_type": "code",
   "execution_count": 48,
   "metadata": {},
   "outputs": [
    {
     "name": "stdout",
     "output_type": "stream",
     "text": [
      "Question: Current speed of the vehicle: 4.93m/s. The length of the video is 4.00 seconds.  What objects can you see in the video?\n",
      "<video>\n",
      "Answer:  In the video, I can see several objects in each frame. In Frame 0, there are multiple cars, a person, and some other cars in subsequent frames. Frame 1 also has cars, a person, and some more cars in the following frames. Frame 2 includes cars, a person, and additional cars and objects in the subsequent frames. Frame 3 has more cars, a person, and additional cars and objects in the following frames. Frame 4 shows cars, a person, and more cars and objects in the video. Frame 5 includes cars, a person, and additional cars and objects. Frame 6 has cars, a person, a bus, and more cars and objects. And finally, Frame 7 shows cars, a person, and additional cars in the video.\n"
     ]
    },
    {
     "data": {
      "text/html": [
       "<div style=\"display: flex; gap: 10px;\"><img src=\"./datasets/drivegpt4_dataset/BDD_X_imgs_select/training_0a8aa157-cbfd9075_08854_0.png\" style=\"height: 200px;\"><img src=\"./datasets/drivegpt4_dataset/BDD_X_imgs_select/training_0a8aa157-cbfd9075_08854_3.png\" style=\"height: 200px;\"><img src=\"./datasets/drivegpt4_dataset/BDD_X_imgs_select/training_0a8aa157-cbfd9075_08854_7.png\" style=\"height: 200px;\"><img src=\"./datasets/drivegpt4_dataset/BDD_X_imgs_select/training_0a8aa157-cbfd9075_08854_11.png\" style=\"height: 200px;\"><img src=\"./datasets/drivegpt4_dataset/BDD_X_imgs_select/training_0a8aa157-cbfd9075_08854_15.png\" style=\"height: 200px;\"><img src=\"./datasets/drivegpt4_dataset/BDD_X_imgs_select/training_0a8aa157-cbfd9075_08854_19.png\" style=\"height: 200px;\"><img src=\"./datasets/drivegpt4_dataset/BDD_X_imgs_select/training_0a8aa157-cbfd9075_08854_23.png\" style=\"height: 200px;\"><img src=\"./datasets/drivegpt4_dataset/BDD_X_imgs_select/training_0a8aa157-cbfd9075_08854_27.png\" style=\"height: 200px;\"></div>"
      ],
      "text/plain": [
       "<IPython.core.display.HTML object>"
      ]
     },
     "metadata": {},
     "output_type": "display_data"
    }
   ],
   "source": [
    "index = 0\n",
    "images = []\n",
    "idx_lst = drive_bddx_train_data[index]['idx_list']\n",
    "for i in idx_lst:\n",
    "    images.append(drive_bddx_train_data[index]['image'].replace('.png', '') + f'_{i}.png')\n",
    "    \n",
    "    \n",
    "print('Question: {}'.format(drive_bddx_train_data[index]['conversations'][0]['value']))\n",
    "print('Answer: {}'.format(drive_bddx_train_data[index]['conversations'][1]['value']))\n",
    "display_images(images, DRIVE_BDDX_IMAGES_PATH)"
   ]
  },
  {
   "cell_type": "code",
   "execution_count": 49,
   "metadata": {},
   "outputs": [
    {
     "name": "stdout",
     "output_type": "stream",
     "text": [
      "Question: What circumstances led to this vehicle's behavior?\n",
      "Answer: since the light turns red and a crossing guard leads children across the street.\n",
      "['training_07116ae0-e9b4fa4a_06930_0.png', 'training_07116ae0-e9b4fa4a_06930_3.png', 'training_07116ae0-e9b4fa4a_06930_7.png', 'training_07116ae0-e9b4fa4a_06930_11.png', 'training_07116ae0-e9b4fa4a_06930_15.png', 'training_07116ae0-e9b4fa4a_06930_19.png', 'training_07116ae0-e9b4fa4a_06930_23.png', 'training_07116ae0-e9b4fa4a_06930_27.png']\n"
     ]
    },
    {
     "data": {
      "text/html": [
       "<div style=\"display: flex; gap: 10px;\"><img src=\"./datasets/drivegpt4_dataset/BDD_X_imgs_select/training_07116ae0-e9b4fa4a_06930_0.png\" style=\"height: 200px;\"><img src=\"./datasets/drivegpt4_dataset/BDD_X_imgs_select/training_07116ae0-e9b4fa4a_06930_3.png\" style=\"height: 200px;\"><img src=\"./datasets/drivegpt4_dataset/BDD_X_imgs_select/training_07116ae0-e9b4fa4a_06930_7.png\" style=\"height: 200px;\"><img src=\"./datasets/drivegpt4_dataset/BDD_X_imgs_select/training_07116ae0-e9b4fa4a_06930_11.png\" style=\"height: 200px;\"><img src=\"./datasets/drivegpt4_dataset/BDD_X_imgs_select/training_07116ae0-e9b4fa4a_06930_15.png\" style=\"height: 200px;\"><img src=\"./datasets/drivegpt4_dataset/BDD_X_imgs_select/training_07116ae0-e9b4fa4a_06930_19.png\" style=\"height: 200px;\"><img src=\"./datasets/drivegpt4_dataset/BDD_X_imgs_select/training_07116ae0-e9b4fa4a_06930_23.png\" style=\"height: 200px;\"><img src=\"./datasets/drivegpt4_dataset/BDD_X_imgs_select/training_07116ae0-e9b4fa4a_06930_27.png\" style=\"height: 200px;\"></div>"
      ],
      "text/plain": [
       "<IPython.core.display.HTML object>"
      ]
     },
     "metadata": {},
     "output_type": "display_data"
    }
   ],
   "source": [
    "index = 2\n",
    "images = []\n",
    "idx_lst = drive_bddx_train_data[index]['idx_list']\n",
    "for i in idx_lst:\n",
    "    images.append(drive_bddx_train_data[index]['image'].replace('.png', '') + f'_{i}.png')\n",
    "    \n",
    "\n",
    "print('Question: {}'.format(drive_bddx_train_data[index]['conversations'][2]['value']))\n",
    "print('Answer: {}'.format(drive_bddx_train_data[index]['conversations'][3]['value']))\n",
    "print(images)\n",
    "display_images(images, './datasets/drivegpt4_dataset/BDD_X_imgs_select')"
   ]
  },
  {
   "cell_type": "code",
   "execution_count": 50,
   "metadata": {},
   "outputs": [
    {
     "name": "stdout",
     "output_type": "stream",
     "text": [
      "Question:  Is the car turning or changing lanes in the video?\n",
      "Answer:  No, the car in the video is not turning or changing lanes. The turning angle of the vehicle remains constant at 0 degrees throughout the entire video. This indicates that the car is driving in a straight line without any significant changes in direction.\n"
     ]
    },
    {
     "data": {
      "text/html": [
       "<div style=\"display: flex; gap: 10px;\"><img src=\"./datasets/drivegpt4_dataset/BDD_X_imgs_select/training_0e711991-1e7bf684_10985_0.png\" style=\"height: 200px;\"><img src=\"./datasets/drivegpt4_dataset/BDD_X_imgs_select/training_0e711991-1e7bf684_10985_3.png\" style=\"height: 200px;\"><img src=\"./datasets/drivegpt4_dataset/BDD_X_imgs_select/training_0e711991-1e7bf684_10985_7.png\" style=\"height: 200px;\"><img src=\"./datasets/drivegpt4_dataset/BDD_X_imgs_select/training_0e711991-1e7bf684_10985_11.png\" style=\"height: 200px;\"><img src=\"./datasets/drivegpt4_dataset/BDD_X_imgs_select/training_0e711991-1e7bf684_10985_15.png\" style=\"height: 200px;\"><img src=\"./datasets/drivegpt4_dataset/BDD_X_imgs_select/training_0e711991-1e7bf684_10985_19.png\" style=\"height: 200px;\"><img src=\"./datasets/drivegpt4_dataset/BDD_X_imgs_select/training_0e711991-1e7bf684_10985_23.png\" style=\"height: 200px;\"><img src=\"./datasets/drivegpt4_dataset/BDD_X_imgs_select/training_0e711991-1e7bf684_10985_27.png\" style=\"height: 200px;\"></div>"
      ],
      "text/plain": [
       "<IPython.core.display.HTML object>"
      ]
     },
     "metadata": {},
     "output_type": "display_data"
    }
   ],
   "source": [
    "index = 70\n",
    "images = []\n",
    "idx_lst = drive_bddx_train_data[index]['idx_list']\n",
    "for i in idx_lst:\n",
    "    images.append(drive_bddx_train_data[index]['image'].replace('.png', '') + f'_{i}.png')\n",
    "    \n",
    "\n",
    "print('Question: {}'.format(drive_bddx_train_data[index]['conversations'][2]['value']))\n",
    "print('Answer: {}'.format(drive_bddx_train_data[index]['conversations'][3]['value']))\n",
    "display_images(images, DRIVE_BDDX_IMAGES_PATH)"
   ]
  },
  {
   "cell_type": "markdown",
   "metadata": {},
   "source": [
    "#### Number of videos"
   ]
  },
  {
   "cell_type": "code",
   "execution_count": 51,
   "metadata": {},
   "outputs": [
    {
     "data": {
      "text/plain": [
       "3438"
      ]
     },
     "execution_count": 51,
     "metadata": {},
     "output_type": "execute_result"
    }
   ],
   "source": [
    "videos = []\n",
    "for data in drive_bddx_train_data:\n",
    "    videos.append(data['id'].split('_')[1])\n",
    "len(set(videos))"
   ]
  },
  {
   "cell_type": "markdown",
   "metadata": {},
   "source": [
    "### Testing Dataset"
   ]
  },
  {
   "cell_type": "code",
   "execution_count": 52,
   "metadata": {},
   "outputs": [],
   "source": [
    "with open(os.path.join(DRIVE_BDDX_DATASET_PATH, 'BDD_X_testing_label.json'), 'r') as f:\n",
    "    drive_bddx_test_data = json.load(f)"
   ]
  },
  {
   "cell_type": "code",
   "execution_count": 58,
   "metadata": {},
   "outputs": [
    {
     "name": "stdout",
     "output_type": "stream",
     "text": [
      "Question: Current speed of the vehicle: 3.09m/s. The length of the video is 3.00 seconds. What action is the vehicle performing in this video at the moment?\n",
      "<video>\n",
      "Answer: The car slows down to a stop\n"
     ]
    },
    {
     "data": {
      "text/html": [
       "<div style=\"display: flex; gap: 10px;\"><img src=\"./datasets/drivegpt4_dataset/BDD_X_imgs_select/testing_1f0fff77-a50aae97_23663_0.png\" style=\"height: 200px;\"><img src=\"./datasets/drivegpt4_dataset/BDD_X_imgs_select/testing_1f0fff77-a50aae97_23663_3.png\" style=\"height: 200px;\"><img src=\"./datasets/drivegpt4_dataset/BDD_X_imgs_select/testing_1f0fff77-a50aae97_23663_7.png\" style=\"height: 200px;\"><img src=\"./datasets/drivegpt4_dataset/BDD_X_imgs_select/testing_1f0fff77-a50aae97_23663_11.png\" style=\"height: 200px;\"><img src=\"./datasets/drivegpt4_dataset/BDD_X_imgs_select/testing_1f0fff77-a50aae97_23663_15.png\" style=\"height: 200px;\"><img src=\"./datasets/drivegpt4_dataset/BDD_X_imgs_select/testing_1f0fff77-a50aae97_23663_19.png\" style=\"height: 200px;\"><img src=\"./datasets/drivegpt4_dataset/BDD_X_imgs_select/testing_1f0fff77-a50aae97_23663_23.png\" style=\"height: 200px;\"><img src=\"./datasets/drivegpt4_dataset/BDD_X_imgs_select/testing_1f0fff77-a50aae97_23663_27.png\" style=\"height: 200px;\"></div>"
      ],
      "text/plain": [
       "<IPython.core.display.HTML object>"
      ]
     },
     "metadata": {},
     "output_type": "display_data"
    }
   ],
   "source": [
    "index = 1\n",
    "idx_lst = drive_bddx_test_data[index]['idx_list']\n",
    "images = []\n",
    "for i in idx_lst:\n",
    "    images.append(drive_bddx_test_data[index]['image'].replace('.png', '') + f'_{i}.png')\n",
    "    \n",
    "    \n",
    "print('Question: {}'.format(drive_bddx_test_data[index]['conversations'][0]['value']))\n",
    "print('Answer: {}'.format(drive_bddx_test_data[index]['conversations'][1]['value']))\n",
    "display_images(images, DRIVE_BDDX_IMAGES_PATH)"
   ]
  },
  {
   "cell_type": "code",
   "execution_count": 57,
   "metadata": {},
   "outputs": [
    {
     "name": "stdout",
     "output_type": "stream",
     "text": [
      "Question: Current speed of the vehicle: 0.20m/s. The length of the video is 2.00 seconds. How is the vehicle behaving at this point in the video?\n",
      "<video>\n",
      "Answer: The car has stopped\n"
     ]
    },
    {
     "data": {
      "text/html": [
       "<div style=\"display: flex; gap: 10px;\"><img src=\"./datasets/drivegpt4_dataset/BDD_X_imgs_select/testing_1f225b07-91132e43_23678_0.png\" style=\"height: 200px;\"><img src=\"./datasets/drivegpt4_dataset/BDD_X_imgs_select/testing_1f225b07-91132e43_23678_3.png\" style=\"height: 200px;\"><img src=\"./datasets/drivegpt4_dataset/BDD_X_imgs_select/testing_1f225b07-91132e43_23678_7.png\" style=\"height: 200px;\"><img src=\"./datasets/drivegpt4_dataset/BDD_X_imgs_select/testing_1f225b07-91132e43_23678_11.png\" style=\"height: 200px;\"><img src=\"./datasets/drivegpt4_dataset/BDD_X_imgs_select/testing_1f225b07-91132e43_23678_15.png\" style=\"height: 200px;\"><img src=\"./datasets/drivegpt4_dataset/BDD_X_imgs_select/testing_1f225b07-91132e43_23678_19.png\" style=\"height: 200px;\"><img src=\"./datasets/drivegpt4_dataset/BDD_X_imgs_select/testing_1f225b07-91132e43_23678_23.png\" style=\"height: 200px;\"><img src=\"./datasets/drivegpt4_dataset/BDD_X_imgs_select/testing_1f225b07-91132e43_23678_27.png\" style=\"height: 200px;\"></div>"
      ],
      "text/plain": [
       "<IPython.core.display.HTML object>"
      ]
     },
     "metadata": {},
     "output_type": "display_data"
    }
   ],
   "source": [
    "index = 15\n",
    "idx_lst = drive_bddx_test_data[index]['idx_list']\n",
    "images = []\n",
    "for i in idx_lst:\n",
    "    images.append(drive_bddx_test_data[index]['image'].replace('.png', '') + f'_{i}.png')\n",
    "    \n",
    "    \n",
    "print('Question: {}'.format(drive_bddx_test_data[index]['conversations'][0]['value']))\n",
    "print('Answer: {}'.format(drive_bddx_test_data[index]['conversations'][1]['value']))\n",
    "display_images(images, DRIVE_BDDX_IMAGES_PATH)"
   ]
  },
  {
   "cell_type": "code",
   "execution_count": 56,
   "metadata": {},
   "outputs": [
    {
     "name": "stdout",
     "output_type": "stream",
     "text": [
      "Question: Current speed of the vehicle: 8.90m/s. The length of the video is 16.00 seconds. What is the vehicle doing right now in this video?\n",
      "<video>\n",
      "Answer: The car is travelling down the road\n"
     ]
    },
    {
     "data": {
      "text/html": [
       "<div style=\"display: flex; gap: 10px;\"><img src=\"./datasets/drivegpt4_dataset/BDD_X_imgs_select/testing_1fe39b85-c32ca4d2_23753_0.png\" style=\"height: 200px;\"><img src=\"./datasets/drivegpt4_dataset/BDD_X_imgs_select/testing_1fe39b85-c32ca4d2_23753_3.png\" style=\"height: 200px;\"><img src=\"./datasets/drivegpt4_dataset/BDD_X_imgs_select/testing_1fe39b85-c32ca4d2_23753_7.png\" style=\"height: 200px;\"><img src=\"./datasets/drivegpt4_dataset/BDD_X_imgs_select/testing_1fe39b85-c32ca4d2_23753_11.png\" style=\"height: 200px;\"><img src=\"./datasets/drivegpt4_dataset/BDD_X_imgs_select/testing_1fe39b85-c32ca4d2_23753_15.png\" style=\"height: 200px;\"><img src=\"./datasets/drivegpt4_dataset/BDD_X_imgs_select/testing_1fe39b85-c32ca4d2_23753_19.png\" style=\"height: 200px;\"><img src=\"./datasets/drivegpt4_dataset/BDD_X_imgs_select/testing_1fe39b85-c32ca4d2_23753_23.png\" style=\"height: 200px;\"><img src=\"./datasets/drivegpt4_dataset/BDD_X_imgs_select/testing_1fe39b85-c32ca4d2_23753_27.png\" style=\"height: 200px;\"></div>"
      ],
      "text/plain": [
       "<IPython.core.display.HTML object>"
      ]
     },
     "metadata": {},
     "output_type": "display_data"
    }
   ],
   "source": [
    "index = 50\n",
    "idx_lst = drive_bddx_test_data[index]['idx_list']\n",
    "images = []\n",
    "for i in idx_lst:\n",
    "    images.append(drive_bddx_test_data[index]['image'].replace('.png', '') + f'_{i}.png')\n",
    "    \n",
    "    \n",
    "print('Question: {}'.format(drive_bddx_test_data[index]['conversations'][0]['value']))\n",
    "print('Answer: {}'.format(drive_bddx_test_data[index]['conversations'][1]['value']))\n",
    "display_images(images, DRIVE_BDDX_IMAGES_PATH)"
   ]
  },
  {
   "cell_type": "markdown",
   "metadata": {},
   "source": [
    "#### Number of videos"
   ]
  },
  {
   "cell_type": "code",
   "execution_count": 108,
   "metadata": {},
   "outputs": [
    {
     "data": {
      "text/plain": [
       "502"
      ]
     },
     "execution_count": 108,
     "metadata": {},
     "output_type": "execute_result"
    }
   ],
   "source": [
    "videos = []\n",
    "for data in drive_bddx_test_data:\n",
    "    videos.append(data['id'].split('_')[1])\n",
    "len(set(videos))"
   ]
  },
  {
   "cell_type": "markdown",
   "metadata": {},
   "source": [
    "## Analyze BDD-X Original Dataset"
   ]
  },
  {
   "cell_type": "markdown",
   "metadata": {},
   "source": [
    "## Analyze NuInstruct Dataset"
   ]
  }
 ],
 "metadata": {
  "kernelspec": {
   "display_name": ".venv",
   "language": "python",
   "name": "python3"
  },
  "language_info": {
   "codemirror_mode": {
    "name": "ipython",
    "version": 3
   },
   "file_extension": ".py",
   "mimetype": "text/x-python",
   "name": "python",
   "nbconvert_exporter": "python",
   "pygments_lexer": "ipython3",
   "version": "3.10.12"
  }
 },
 "nbformat": 4,
 "nbformat_minor": 2
}
